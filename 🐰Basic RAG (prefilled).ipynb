{
 "cells": [
  {
   "cell_type": "markdown",
   "id": "0501f695-bfb8-4ac0-b7d8-ef1fcfc3ab34",
   "metadata": {},
   "source": [
    "# 🐰0️⃣: Test Ollama\n",
    "Python Ollama: https://github.com/ollama/ollama-python\n",
    "\n",
    "Ollama REST API: https://github.com/ollama/ollama/blob/main/docs/api.md"
   ]
  },
  {
   "cell_type": "code",
   "execution_count": 12,
   "id": "0331bfdc-855f-4742-903f-b42650d67a43",
   "metadata": {},
   "outputs": [
    {
     "name": "stdout",
     "output_type": "stream",
     "text": [
      "Here is a Python list with 6 facts about dreams:\n",
      "\n",
      "```\n",
      "dream_facts = [\n",
      "    \"1. Most people dream for around 2 hours every night, but only remember 4-6 dreams.\",\n",
      "    \"2. The average person has over 100,000 thoughts while they're dreaming!\",\n",
      "    \"3. Dreams can be influenced by our emotions - a study found that people who were stressed or anxious had more nightmares.\",\n",
      "    \"4. The brain processes visual information during REM sleep (when most dreams occur) faster than during wakefulness.\",\n",
      "    \"5. Some scientists believe that dreams can help us process and consolidate memories, especially emotional ones.\",\n",
      "    \"6. Lucid dreaming - being aware you're dreaming while still in the dream state - is a skill that some people can develop with practice.\"\n",
      "]\n",
      "\n",
      "print(dream_facts)\n",
      "```\n",
      "\n",
      "Note: These facts are based on various studies and sources, but keep in mind that dreams are complex and personal experiences, so individual results may vary!"
     ]
    }
   ],
   "source": [
    "import ollama\n",
    "\n",
    "llm_model = 'llama3:8b'\n",
    "\n",
    "system_prompt = 'You are an helpful assistant'\n",
    "\n",
    "user_prompt = 'Provide a python list of 6 facts about dreams'\n",
    "\n",
    "stream = ollama.chat(\n",
    "    model = llm_model,\n",
    "    messages = [{\n",
    "        'role': 'system', \n",
    "        'content': system_prompt,\n",
    "    },\n",
    "    {\n",
    "        'role': 'user',\n",
    "        'content': user_prompt,\n",
    "    }],\n",
    "    options = {'temperature': 0.8},\n",
    "    stream = True,\n",
    ")\n",
    "\n",
    "for chunk in stream:\n",
    "    print(chunk['message']['content'], end = '', flush=True)"
   ]
  },
  {
   "cell_type": "markdown",
   "id": "e43b270c-f354-4f11-9538-c6475b575830",
   "metadata": {},
   "source": [
    "# 🐰1️⃣: Create Embeddings\n",
    "Chroma: https://docs.trychroma.com/getting-started"
   ]
  },
  {
   "cell_type": "code",
   "execution_count": 4,
   "id": "1ecd5d0b-9829-4a66-8760-c4d75f0825b2",
   "metadata": {},
   "outputs": [],
   "source": [
    "import chromadb\n",
    "\n",
    "documents = [\n",
    "    \"Dreams occur during the Rapid Eye Movement (REM) stage of sleep, when brain activity is similar to being awake.\",\n",
    "    \"The average person has 4-6 dreams per night, with most people experiencing vivid and memorable dreams every few nights.\",\n",
    "    \"Dreams can last anywhere from a few seconds to over an hour, with the average dream lasting around 5-20 minutes.\",\n",
    "    \"REM sleep and dreaming are closely linked to brain regions responsible for emotions, memory, and learning.\",\n",
    "    \"Studies have shown that people tend to dream more about things they've experienced in their waking lives than abstract or fantastical themes.\",\n",
    "    \"Dreams can be influenced by external factors such as stress, caffeine consumption, and environmental noise levels.\"\n",
    "]\n",
    "\n",
    "client = chromadb.Client()\n",
    "\n",
    "collection = client.create_collection(name=\"docs\", get_or_create=True)\n",
    "\n",
    "collection.add(\n",
    "    documents= documents,\n",
    "    ids=[\"1\", \"2\", \"3\", \"4\", \"5\", \"6\"]\n",
    ")"
   ]
  },
  {
   "cell_type": "markdown",
   "id": "2030c314-e57f-462f-ad37-442ad7ae47d5",
   "metadata": {},
   "source": [
    "# 🐰2️⃣: Query Embeddings"
   ]
  },
  {
   "cell_type": "code",
   "execution_count": 13,
   "id": "dfa4b10a-c0d6-4632-b42c-9be876a82520",
   "metadata": {},
   "outputs": [
    {
     "name": "stdout",
     "output_type": "stream",
     "text": [
      "{\n",
      " \"ids\": [\n",
      "  [\n",
      "   \"3\",\n",
      "   \"2\",\n",
      "   \"6\"\n",
      "  ]\n",
      " ],\n",
      " \"distances\": [\n",
      "  [\n",
      "   0.3337446451187134,\n",
      "   0.7802374362945557,\n",
      "   0.9478079676628113\n",
      "  ]\n",
      " ],\n",
      " \"metadatas\": [\n",
      "  [\n",
      "   null,\n",
      "   null,\n",
      "   null\n",
      "  ]\n",
      " ],\n",
      " \"embeddings\": null,\n",
      " \"documents\": [\n",
      "  [\n",
      "   \"Dreams can last anywhere from a few seconds to over an hour, with the average dream lasting around 5-20 minutes.\",\n",
      "   \"The average person has 4-6 dreams per night, with most people experiencing vivid and memorable dreams every few nights.\",\n",
      "   \"Dreams can be influenced by external factors such as stress, caffeine consumption, and environmental noise levels.\"\n",
      "  ]\n",
      " ],\n",
      " \"uris\": null,\n",
      " \"data\": null\n",
      "}\n"
     ]
    }
   ],
   "source": [
    "import json\n",
    "\n",
    "query = \"How long do dreams last?\"\n",
    "\n",
    "results = collection.query(\n",
    "    query_texts=query,\n",
    "    n_results=3\n",
    ")\n",
    "\n",
    "print(json.dumps(results, indent=1))"
   ]
  },
  {
   "cell_type": "markdown",
   "id": "d78173f1-8c14-4e69-9e7d-eea4d1147b2b",
   "metadata": {},
   "source": [
    "# 🐰4️⃣: Prompt LLM with Query Results"
   ]
  },
  {
   "cell_type": "code",
   "execution_count": 23,
   "id": "2ffb754e-8a42-487f-8bf6-2c1102bece39",
   "metadata": {},
   "outputs": [
    {
     "name": "stdout",
     "output_type": "stream",
     "text": [
      "system_prompt: Answer the query using only the provided information\n",
      "\n",
      "user_prompt: Query: How long do dreams last?\n",
      "\n",
      "Provided information:\n",
      "\n",
      "▪️ Dreams can last anywhere from a few seconds to over an hour, with the average dream lasting around 5-20 minutes.\n",
      "\n",
      "▪️ The average person has 4-6 dreams per night, with most people experiencing vivid and memorable dreams every few nights.\n",
      "\n",
      "▪️ Dreams can be influenced by external factors such as stress, caffeine consumption, and environmental noise levels.\n"
     ]
    }
   ],
   "source": [
    "information = '▪️ '+'\\n\\n▪️ '.join(results['documents'][0])\n",
    "\n",
    "system_prompt = 'Answer the query using only the provided information'\n",
    "\n",
    "user_prompt = f'Query: {query}\\n\\nProvided information:\\n\\n{information}'\n",
    "\n",
    "print(f'system_prompt: {system_prompt}\\n')\n",
    "print(f'user_prompt: {user_prompt}')"
   ]
  },
  {
   "cell_type": "code",
   "execution_count": 24,
   "id": "7b6fcaa5-db4c-428d-92b8-f717210483f0",
   "metadata": {},
   "outputs": [
    {
     "name": "stdout",
     "output_type": "stream",
     "text": [
      "According to the provided information, dreams can last anywhere from a few seconds to over an hour, with the average dream lasting around 5-20 minutes.\n",
      "\n",
      "▪️ Dreams can last anywhere from a few seconds to over an hour, with the average dream lasting around 5-20 minutes.\n",
      "\n",
      "▪️ The average person has 4-6 dreams per night, with most people experiencing vivid and memorable dreams every few nights.\n",
      "\n",
      "▪️ Dreams can be influenced by external factors such as stress, caffeine consumption, and environmental noise levels.\n"
     ]
    }
   ],
   "source": [
    "stream = ollama.chat(\n",
    "    model = llm_model,\n",
    "    messages = [{\n",
    "        'role': 'system', \n",
    "        'content': system_prompt,\n",
    "    },\n",
    "    {\n",
    "        'role': 'user',\n",
    "        'content': user_prompt,\n",
    "    }],\n",
    "    options = {'temperature': 0},\n",
    "    stream = True,\n",
    ")\n",
    "\n",
    "for chunk in stream:\n",
    "    print(chunk['message']['content'], end = '', flush=True)\n",
    "\n",
    "print(\"\\n\\n\" + information)"
   ]
  }
 ],
 "metadata": {
  "kernelspec": {
   "display_name": "Python 3 (ipykernel)",
   "language": "python",
   "name": "python3"
  },
  "language_info": {
   "codemirror_mode": {
    "name": "ipython",
    "version": 3
   },
   "file_extension": ".py",
   "mimetype": "text/x-python",
   "name": "python",
   "nbconvert_exporter": "python",
   "pygments_lexer": "ipython3",
   "version": "3.12.2"
  }
 },
 "nbformat": 4,
 "nbformat_minor": 5
}

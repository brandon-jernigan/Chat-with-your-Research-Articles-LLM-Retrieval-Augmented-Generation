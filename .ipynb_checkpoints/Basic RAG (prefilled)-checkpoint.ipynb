{
 "cells": [
  {
   "cell_type": "markdown",
   "id": "0501f695-bfb8-4ac0-b7d8-ef1fcfc3ab34",
   "metadata": {},
   "source": [
    "# 🐰0️⃣: Test Ollama\n",
    "Python Ollama: https://github.com/ollama/ollama-python\n",
    "\n",
    "Ollama REST API: https://github.com/ollama/ollama/blob/main/docs/api.md"
   ]
  },
  {
   "cell_type": "code",
   "execution_count": null,
   "id": "0331bfdc-855f-4742-903f-b42650d67a43",
   "metadata": {},
   "outputs": [],
   "source": [
    "import ollama\n",
    "\n",
    "llm_model = 'llama3:8b'\n",
    "\n",
    "system_prompt = 'You are an helpful assistant'\n",
    "\n",
    "user_prompt = 'Provide a python list of 6 facts about dreams'\n",
    "\n",
    "stream = ollama.chat(\n",
    "    model = llm_model,\n",
    "    messages = [{\n",
    "        'role': 'system', \n",
    "        'content': system_prompt,\n",
    "    },\n",
    "    {\n",
    "        'role': 'user',\n",
    "        'content': user_prompt,\n",
    "    }],\n",
    "    options = {'temperature': 0.8},\n",
    "    stream = True,\n",
    ")\n",
    "\n",
    "for chunk in stream:\n",
    "    print(chunk['message']['content'], end = '', flush=True)"
   ]
  },
  {
   "cell_type": "markdown",
   "id": "e43b270c-f354-4f11-9538-c6475b575830",
   "metadata": {},
   "source": [
    "# 🐰1️⃣: Create Embeddings\n",
    "Chroma: https://docs.trychroma.com/getting-started"
   ]
  },
  {
   "cell_type": "code",
   "execution_count": null,
   "id": "1ecd5d0b-9829-4a66-8760-c4d75f0825b2",
   "metadata": {},
   "outputs": [],
   "source": [
    "import chromadb\n",
    "\n",
    "documents = [\n",
    "    \"Dreams occur during the Rapid Eye Movement (REM) stage of sleep, when brain activity is similar to being awake.\",\n",
    "    \"The average person has 4-6 dreams per night, with most people experiencing vivid and memorable dreams every few nights.\",\n",
    "    \"Dreams can last anywhere from a few seconds to over an hour, with the average dream lasting around 5-20 minutes.\",\n",
    "    \"REM sleep and dreaming are closely linked to brain regions responsible for emotions, memory, and learning.\",\n",
    "    \"Studies have shown that people tend to dream more about things they've experienced in their waking lives than abstract or fantastical themes.\",\n",
    "    \"Dreams can be influenced by external factors such as stress, caffeine consumption, and environmental noise levels.\"\n",
    "]\n",
    "\n",
    "client = chromadb.Client()\n",
    "\n",
    "collection = client.create_collection(name=\"docs\", get_or_create=True)\n",
    "\n",
    "collection.add(\n",
    "    documents= documents,\n",
    "    ids=[\"1\", \"2\", \"3\", \"4\", \"5\", \"6\"]\n",
    ")"
   ]
  },
  {
   "cell_type": "markdown",
   "id": "2030c314-e57f-462f-ad37-442ad7ae47d5",
   "metadata": {},
   "source": [
    "# 🐰2️⃣: Query Embeddings"
   ]
  },
  {
   "cell_type": "code",
   "execution_count": null,
   "id": "dfa4b10a-c0d6-4632-b42c-9be876a82520",
   "metadata": {},
   "outputs": [],
   "source": [
    "import json\n",
    "\n",
    "query = \"How long do dreams last?\"\n",
    "\n",
    "results = collection.query(\n",
    "    query_texts=query,\n",
    "    n_results=3\n",
    ")\n",
    "\n",
    "print(json.dumps(results, indent=1))"
   ]
  },
  {
   "cell_type": "markdown",
   "id": "d78173f1-8c14-4e69-9e7d-eea4d1147b2b",
   "metadata": {},
   "source": [
    "# 🐰4️⃣: Prompt LLM with Query Results"
   ]
  },
  {
   "cell_type": "code",
   "execution_count": null,
   "id": "2ffb754e-8a42-487f-8bf6-2c1102bece39",
   "metadata": {},
   "outputs": [],
   "source": [
    "information = '▪️ '+'\\n\\n▪️ '.join(results['documents'][0])\n",
    "\n",
    "system_prompt = 'Answer the query using only the provided information'\n",
    "\n",
    "user_prompt = f'Query: {query}\\n\\nProvided information:\\n\\n{information}'\n",
    "\n",
    "print(f'system_prompt: {system_prompt}\\n')\n",
    "print(f'user_prompt: {user_prompt}')"
   ]
  },
  {
   "cell_type": "code",
   "execution_count": null,
   "id": "7b6fcaa5-db4c-428d-92b8-f717210483f0",
   "metadata": {},
   "outputs": [],
   "source": [
    "stream = ollama.chat(\n",
    "    model = llm_model,\n",
    "    messages = [{\n",
    "        'role': 'system', \n",
    "        'content': system_prompt,\n",
    "    },\n",
    "    {\n",
    "        'role': 'user',\n",
    "        'content': user_prompt,\n",
    "    }],\n",
    "    options = {'temperature': 0},\n",
    "    stream = True,\n",
    ")\n",
    "\n",
    "for chunk in stream:\n",
    "    print(chunk['message']['content'], end = '', flush=True)\n",
    "\n",
    "print(\"\\n\\n\" + information)"
   ]
  }
 ],
 "metadata": {
  "kernelspec": {
   "display_name": "Python 3 (ipykernel)",
   "language": "python",
   "name": "python3"
  },
  "language_info": {
   "codemirror_mode": {
    "name": "ipython",
    "version": 3
   },
   "file_extension": ".py",
   "mimetype": "text/x-python",
   "name": "python",
   "nbconvert_exporter": "python",
   "pygments_lexer": "ipython3",
   "version": "3.12.2"
  }
 },
 "nbformat": 4,
 "nbformat_minor": 5
}

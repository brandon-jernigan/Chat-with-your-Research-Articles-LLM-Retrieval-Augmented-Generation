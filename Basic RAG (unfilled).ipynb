{
 "cells": [
  {
   "cell_type": "markdown",
   "id": "0501f695-bfb8-4ac0-b7d8-ef1fcfc3ab34",
   "metadata": {},
   "source": [
    "# 🐰0️⃣: Test Ollama\n",
    "Python Ollama: https://github.com/ollama/ollama-python\n",
    "\n",
    "Ollama REST API: https://github.com/ollama/ollama/blob/main/docs/api.md"
   ]
  },
  {
   "cell_type": "code",
   "execution_count": null,
   "id": "0331bfdc-855f-4742-903f-b42650d67a43",
   "metadata": {},
   "outputs": [],
   "source": []
  },
  {
   "cell_type": "markdown",
   "id": "e43b270c-f354-4f11-9538-c6475b575830",
   "metadata": {},
   "source": [
    "# 🐰1️⃣: Create Embeddings\n",
    "Chroma: https://docs.trychroma.com/getting-started"
   ]
  },
  {
   "cell_type": "code",
   "execution_count": null,
   "id": "1ecd5d0b-9829-4a66-8760-c4d75f0825b2",
   "metadata": {},
   "outputs": [],
   "source": []
  },
  {
   "cell_type": "markdown",
   "id": "2030c314-e57f-462f-ad37-442ad7ae47d5",
   "metadata": {},
   "source": [
    "# 🐰2️⃣: Query Embeddings"
   ]
  },
  {
   "cell_type": "code",
   "execution_count": null,
   "id": "dfa4b10a-c0d6-4632-b42c-9be876a82520",
   "metadata": {},
   "outputs": [],
   "source": []
  },
  {
   "cell_type": "markdown",
   "id": "d78173f1-8c14-4e69-9e7d-eea4d1147b2b",
   "metadata": {},
   "source": [
    "# 🐰4️⃣: Prompt LLM with Query Results"
   ]
  },
  {
   "cell_type": "code",
   "execution_count": null,
   "id": "2ffb754e-8a42-487f-8bf6-2c1102bece39",
   "metadata": {},
   "outputs": [],
   "source": []
  },
  {
   "cell_type": "code",
   "execution_count": null,
   "id": "7b6fcaa5-db4c-428d-92b8-f717210483f0",
   "metadata": {},
   "outputs": [],
   "source": []
  }
 ],
 "metadata": {
  "kernelspec": {
   "display_name": "Python 3 (ipykernel)",
   "language": "python",
   "name": "python3"
  },
  "language_info": {
   "codemirror_mode": {
    "name": "ipython",
    "version": 3
   },
   "file_extension": ".py",
   "mimetype": "text/x-python",
   "name": "python",
   "nbconvert_exporter": "python",
   "pygments_lexer": "ipython3",
   "version": "3.12.2"
  }
 },
 "nbformat": 4,
 "nbformat_minor": 5
}
